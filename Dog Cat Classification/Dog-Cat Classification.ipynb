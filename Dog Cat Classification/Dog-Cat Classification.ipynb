{
 "cells": [
  {
   "cell_type": "code",
   "execution_count": 10,
   "id": "7cd39ed1",
   "metadata": {},
   "outputs": [],
   "source": [
    "import kagglehub\n",
    "import warnings\n",
    "import os\n",
    "import shutil\n",
    "warnings.filterwarnings(\"ignore\")"
   ]
  },
  {
   "cell_type": "code",
   "execution_count": 3,
   "id": "667be6ab",
   "metadata": {},
   "outputs": [
    {
     "name": "stdout",
     "output_type": "stream",
     "text": [
      "Path to dataset files: C:\\Users\\adity\\.cache\\kagglehub\\datasets\\karakaggle\\kaggle-cat-vs-dog-dataset\\versions\\1\n"
     ]
    }
   ],
   "source": [
    "path = kagglehub.dataset_download(\"karakaggle/kaggle-cat-vs-dog-dataset\")\n",
    "\n",
    "print(\"Path to dataset files:\", path)"
   ]
  },
  {
   "cell_type": "code",
   "execution_count": 9,
   "id": "edb6be49",
   "metadata": {},
   "outputs": [
    {
     "name": "stdout",
     "output_type": "stream",
     "text": [
      "Files in dataset directory: ['kagglecatsanddogs_3367a']\n",
      "Dataset copied to current working directory.\n"
     ]
    }
   ],
   "source": [
    "### Copy the dataset to your working directory\n",
    "\n",
    "files = os.listdir(path)\n",
    "print(\"Files in dataset directory:\", files)\n",
    "\n",
    "# Copy the dataset folder to your working directory\n",
    "shutil.copytree(path, \".\", dirs_exist_ok=True)\n",
    "print(\"Dataset copied to current working directory.\")"
   ]
  },
  {
   "cell_type": "code",
   "execution_count": null,
   "id": "cad100b6",
   "metadata": {},
   "outputs": [],
   "source": []
  }
 ],
 "metadata": {
  "kernelspec": {
   "display_name": ".venv",
   "language": "python",
   "name": "python3"
  },
  "language_info": {
   "codemirror_mode": {
    "name": "ipython",
    "version": 3
   },
   "file_extension": ".py",
   "mimetype": "text/x-python",
   "name": "python",
   "nbconvert_exporter": "python",
   "pygments_lexer": "ipython3",
   "version": "3.10.17"
  }
 },
 "nbformat": 4,
 "nbformat_minor": 5
}
